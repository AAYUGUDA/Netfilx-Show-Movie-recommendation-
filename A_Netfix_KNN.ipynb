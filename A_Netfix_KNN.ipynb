{
 "cells": [
  {
   "cell_type": "code",
   "execution_count": 5,
   "metadata": {},
   "outputs": [],
   "source": [
    "import numpy as np\n",
    "import pandas as pd\n",
    "from sklearn.neighbors import NearestNeighbors\n",
    "from sklearn.preprocessing import OneHotEncoder\n",
    "from sklearn.impute import SimpleImputer\n",
    "from sklearn.compose import make_column_transformer\n",
    "\n"
   ]
  },
  {
   "cell_type": "code",
   "execution_count": 6,
   "metadata": {},
   "outputs": [],
   "source": [
    "N_titles= pd.read_csv(r\"C:\\Users\\Ahmad\\OneDrive\\Netflix_O\\titles.csv\")\n",
    "N_credits= pd.read_csv(r\"C:\\Users\\Ahmad\\OneDrive\\Netflix_O\\credits.csv\")"
   ]
  },
  {
   "cell_type": "code",
   "execution_count": 7,
   "metadata": {},
   "outputs": [],
   "source": [
    "N_titles1= N_titles.drop([\"imdb_id\",\"imdb_score\"], axis=1)\n",
    "N_credits1= N_credits.drop([\"person_id\",\"character\"], axis=1)"
   ]
  },
  {
   "cell_type": "code",
   "execution_count": 8,
   "metadata": {},
   "outputs": [
    {
     "name": "stdout",
     "output_type": "stream",
     "text": [
      "<class 'pandas.core.frame.DataFrame'>\n",
      "RangeIndex: 77801 entries, 0 to 77800\n",
      "Data columns (total 19 columns):\n",
      " #   Column                Non-Null Count  Dtype  \n",
      "---  ------                --------------  -----  \n",
      " 0   id                    77801 non-null  object \n",
      " 1   title                 77800 non-null  object \n",
      " 2   type                  77801 non-null  object \n",
      " 3   description           77763 non-null  object \n",
      " 4   release_year          77801 non-null  int64  \n",
      " 5   age_certification     46658 non-null  object \n",
      " 6   runtime               77801 non-null  int64  \n",
      " 7   genres                77801 non-null  object \n",
      " 8   production_countries  77801 non-null  object \n",
      " 9   seasons               14710 non-null  float64\n",
      " 10  imdb_id               74302 non-null  object \n",
      " 11  imdb_score            73851 non-null  float64\n",
      " 12  imdb_votes            73764 non-null  float64\n",
      " 13  tmdb_popularity       77790 non-null  float64\n",
      " 14  tmdb_score            76664 non-null  float64\n",
      " 15  person_id             77801 non-null  int64  \n",
      " 16  name                  77801 non-null  object \n",
      " 17  character             68029 non-null  object \n",
      " 18  role                  77801 non-null  object \n",
      "dtypes: float64(5), int64(3), object(11)\n",
      "memory usage: 11.3+ MB\n"
     ]
    }
   ],
   "source": [
    "netflix_s = N_titles.merge(N_credits, on=\"id\")\n",
    "netflix_s.info()"
   ]
  },
  {
   "cell_type": "code",
   "execution_count": 9,
   "metadata": {},
   "outputs": [],
   "source": [
    "netflix_R = netflix_s[(netflix_s['title'].notnull())]\n"
   ]
  },
  {
   "cell_type": "code",
   "execution_count": 10,
   "metadata": {},
   "outputs": [
    {
     "name": "stderr",
     "output_type": "stream",
     "text": [
      "C:\\Users\\Ahmad\\AppData\\Local\\Temp\\ipykernel_25476\\1052028637.py:1: SettingWithCopyWarning: \n",
      "A value is trying to be set on a copy of a slice from a DataFrame\n",
      "\n",
      "See the caveats in the documentation: https://pandas.pydata.org/pandas-docs/stable/user_guide/indexing.html#returning-a-view-versus-a-copy\n",
      "  netflix_R.drop_duplicates(subset=[('title')], inplace=True)\n"
     ]
    }
   ],
   "source": [
    "netflix_R.drop_duplicates(subset=[('title')], inplace=True)"
   ]
  },
  {
   "cell_type": "code",
   "execution_count": 11,
   "metadata": {},
   "outputs": [],
   "source": [
    "netflix_R.reset_index(drop=True, inplace=True)"
   ]
  },
  {
   "cell_type": "code",
   "execution_count": 12,
   "metadata": {},
   "outputs": [],
   "source": [
    "import ast "
   ]
  },
  {
   "cell_type": "code",
   "execution_count": 13,
   "metadata": {},
   "outputs": [
    {
     "name": "stderr",
     "output_type": "stream",
     "text": [
      "C:\\Users\\Ahmad\\AppData\\Local\\Temp\\ipykernel_25476\\1115550650.py:1: SettingWithCopyWarning: \n",
      "A value is trying to be set on a copy of a slice from a DataFrame.\n",
      "Try using .loc[row_indexer,col_indexer] = value instead\n",
      "\n",
      "See the caveats in the documentation: https://pandas.pydata.org/pandas-docs/stable/user_guide/indexing.html#returning-a-view-versus-a-copy\n",
      "  netflix_R['genres'] = netflix_R['genres'].replace(np.nan, '[]')\n",
      "C:\\Users\\Ahmad\\AppData\\Local\\Temp\\ipykernel_25476\\1115550650.py:2: SettingWithCopyWarning: \n",
      "A value is trying to be set on a copy of a slice from a DataFrame.\n",
      "Try using .loc[row_indexer,col_indexer] = value instead\n",
      "\n",
      "See the caveats in the documentation: https://pandas.pydata.org/pandas-docs/stable/user_guide/indexing.html#returning-a-view-versus-a-copy\n",
      "  netflix_R['genres'] = netflix_R['genres'].apply(lambda x: ast.literal_eval(x))\n",
      "C:\\Users\\Ahmad\\AppData\\Local\\Temp\\ipykernel_25476\\1115550650.py:3: SettingWithCopyWarning: \n",
      "A value is trying to be set on a copy of a slice from a DataFrame.\n",
      "Try using .loc[row_indexer,col_indexer] = value instead\n",
      "\n",
      "See the caveats in the documentation: https://pandas.pydata.org/pandas-docs/stable/user_guide/indexing.html#returning-a-view-versus-a-copy\n",
      "  netflix_R['genres'] = netflix_R['genres'].astype(str).str.replace(\"'\", \"\")\n",
      "C:\\Users\\Ahmad\\AppData\\Local\\Temp\\ipykernel_25476\\1115550650.py:4: SettingWithCopyWarning: \n",
      "A value is trying to be set on a copy of a slice from a DataFrame.\n",
      "Try using .loc[row_indexer,col_indexer] = value instead\n",
      "\n",
      "See the caveats in the documentation: https://pandas.pydata.org/pandas-docs/stable/user_guide/indexing.html#returning-a-view-versus-a-copy\n",
      "  netflix_R['genres'] = netflix_R['genres'].astype(str).str.replace(\"[\", \"\")\n",
      "C:\\Users\\Ahmad\\AppData\\Local\\Temp\\ipykernel_25476\\1115550650.py:5: SettingWithCopyWarning: \n",
      "A value is trying to be set on a copy of a slice from a DataFrame.\n",
      "Try using .loc[row_indexer,col_indexer] = value instead\n",
      "\n",
      "See the caveats in the documentation: https://pandas.pydata.org/pandas-docs/stable/user_guide/indexing.html#returning-a-view-versus-a-copy\n",
      "  netflix_R['genres'] = netflix_R['genres'].astype(str).str.replace(\"]\", \"\")\n"
     ]
    }
   ],
   "source": [
    "netflix_R['genres'] = netflix_R['genres'].replace(np.nan, '[]')\n",
    "netflix_R['genres'] = netflix_R['genres'].apply(lambda x: ast.literal_eval(x))\n",
    "netflix_R['genres'] = netflix_R['genres'].astype(str).str.replace(\"'\", \"\")\n",
    "netflix_R['genres'] = netflix_R['genres'].astype(str).str.replace(\"[\", \"\")\n",
    "netflix_R['genres'] = netflix_R['genres'].astype(str).str.replace(\"]\", \"\")\n"
   ]
  },
  {
   "cell_type": "code",
   "execution_count": 14,
   "metadata": {},
   "outputs": [
    {
     "name": "stderr",
     "output_type": "stream",
     "text": [
      "C:\\Users\\Ahmad\\AppData\\Local\\Temp\\ipykernel_25476\\125385534.py:1: SettingWithCopyWarning: \n",
      "A value is trying to be set on a copy of a slice from a DataFrame.\n",
      "Try using .loc[row_indexer,col_indexer] = value instead\n",
      "\n",
      "See the caveats in the documentation: https://pandas.pydata.org/pandas-docs/stable/user_guide/indexing.html#returning-a-view-versus-a-copy\n",
      "  netflix_R['production_countries'] = netflix_R['production_countries'].str.replace(\"'\", \"\")\n",
      "C:\\Users\\Ahmad\\AppData\\Local\\Temp\\ipykernel_25476\\125385534.py:2: SettingWithCopyWarning: \n",
      "A value is trying to be set on a copy of a slice from a DataFrame.\n",
      "Try using .loc[row_indexer,col_indexer] = value instead\n",
      "\n",
      "See the caveats in the documentation: https://pandas.pydata.org/pandas-docs/stable/user_guide/indexing.html#returning-a-view-versus-a-copy\n",
      "  netflix_R['production_countries'] = netflix_R['production_countries'].str.replace(\"[\", \"\")\n",
      "C:\\Users\\Ahmad\\AppData\\Local\\Temp\\ipykernel_25476\\125385534.py:3: SettingWithCopyWarning: \n",
      "A value is trying to be set on a copy of a slice from a DataFrame.\n",
      "Try using .loc[row_indexer,col_indexer] = value instead\n",
      "\n",
      "See the caveats in the documentation: https://pandas.pydata.org/pandas-docs/stable/user_guide/indexing.html#returning-a-view-versus-a-copy\n",
      "  netflix_R['production_countries'] = netflix_R['production_countries'].str.replace(\"]\", \"\")\n"
     ]
    }
   ],
   "source": [
    "netflix_R['production_countries'] = netflix_R['production_countries'].str.replace(\"'\", \"\")\n",
    "netflix_R['production_countries'] = netflix_R['production_countries'].str.replace(\"[\", \"\")\n",
    "netflix_R['production_countries'] = netflix_R['production_countries'].str.replace(\"]\", \"\")"
   ]
  },
  {
   "cell_type": "markdown",
   "metadata": {},
   "source": [
    "netflix_R['age_certification'].astype(str)\n",
    "netflix_R['imdb_votes'].astype(float)"
   ]
  },
  {
   "cell_type": "code",
   "execution_count": 15,
   "metadata": {},
   "outputs": [
    {
     "name": "stderr",
     "output_type": "stream",
     "text": [
      "C:\\Users\\Ahmad\\AppData\\Local\\Temp\\ipykernel_25476\\2620380520.py:2: FutureWarning: Setting an item of incompatible dtype is deprecated and will raise in a future error of pandas. Value '0' has dtype incompatible with float64, please explicitly cast to a compatible dtype first.\n",
      "  netflix_R['imdb_votes'].fillna(value='0', inplace=True)\n",
      "C:\\Users\\Ahmad\\AppData\\Local\\Temp\\ipykernel_25476\\2620380520.py:2: SettingWithCopyWarning: \n",
      "A value is trying to be set on a copy of a slice from a DataFrame\n",
      "\n",
      "See the caveats in the documentation: https://pandas.pydata.org/pandas-docs/stable/user_guide/indexing.html#returning-a-view-versus-a-copy\n",
      "  netflix_R['imdb_votes'].fillna(value='0', inplace=True)\n"
     ]
    }
   ],
   "source": [
    "#netflix_R['age_certification'].fillna(value='0', inplace=True)\n",
    "netflix_R['imdb_votes'].fillna(value='0', inplace=True)"
   ]
  },
  {
   "cell_type": "code",
   "execution_count": 16,
   "metadata": {},
   "outputs": [],
   "source": [
    "keys = netflix_R[['description','genres','age_certification','production_countries']]\n"
   ]
  },
  {
   "cell_type": "code",
   "execution_count": 17,
   "metadata": {},
   "outputs": [
    {
     "data": {
      "text/html": [
       "<style>#sk-container-id-1 {color: black;}#sk-container-id-1 pre{padding: 0;}#sk-container-id-1 div.sk-toggleable {background-color: white;}#sk-container-id-1 label.sk-toggleable__label {cursor: pointer;display: block;width: 100%;margin-bottom: 0;padding: 0.3em;box-sizing: border-box;text-align: center;}#sk-container-id-1 label.sk-toggleable__label-arrow:before {content: \"▸\";float: left;margin-right: 0.25em;color: #696969;}#sk-container-id-1 label.sk-toggleable__label-arrow:hover:before {color: black;}#sk-container-id-1 div.sk-estimator:hover label.sk-toggleable__label-arrow:before {color: black;}#sk-container-id-1 div.sk-toggleable__content {max-height: 0;max-width: 0;overflow: hidden;text-align: left;background-color: #f0f8ff;}#sk-container-id-1 div.sk-toggleable__content pre {margin: 0.2em;color: black;border-radius: 0.25em;background-color: #f0f8ff;}#sk-container-id-1 input.sk-toggleable__control:checked~div.sk-toggleable__content {max-height: 200px;max-width: 100%;overflow: auto;}#sk-container-id-1 input.sk-toggleable__control:checked~label.sk-toggleable__label-arrow:before {content: \"▾\";}#sk-container-id-1 div.sk-estimator input.sk-toggleable__control:checked~label.sk-toggleable__label {background-color: #d4ebff;}#sk-container-id-1 div.sk-label input.sk-toggleable__control:checked~label.sk-toggleable__label {background-color: #d4ebff;}#sk-container-id-1 input.sk-hidden--visually {border: 0;clip: rect(1px 1px 1px 1px);clip: rect(1px, 1px, 1px, 1px);height: 1px;margin: -1px;overflow: hidden;padding: 0;position: absolute;width: 1px;}#sk-container-id-1 div.sk-estimator {font-family: monospace;background-color: #f0f8ff;border: 1px dotted black;border-radius: 0.25em;box-sizing: border-box;margin-bottom: 0.5em;}#sk-container-id-1 div.sk-estimator:hover {background-color: #d4ebff;}#sk-container-id-1 div.sk-parallel-item::after {content: \"\";width: 100%;border-bottom: 1px solid gray;flex-grow: 1;}#sk-container-id-1 div.sk-label:hover label.sk-toggleable__label {background-color: #d4ebff;}#sk-container-id-1 div.sk-serial::before {content: \"\";position: absolute;border-left: 1px solid gray;box-sizing: border-box;top: 0;bottom: 0;left: 50%;z-index: 0;}#sk-container-id-1 div.sk-serial {display: flex;flex-direction: column;align-items: center;background-color: white;padding-right: 0.2em;padding-left: 0.2em;position: relative;}#sk-container-id-1 div.sk-item {position: relative;z-index: 1;}#sk-container-id-1 div.sk-parallel {display: flex;align-items: stretch;justify-content: center;background-color: white;position: relative;}#sk-container-id-1 div.sk-item::before, #sk-container-id-1 div.sk-parallel-item::before {content: \"\";position: absolute;border-left: 1px solid gray;box-sizing: border-box;top: 0;bottom: 0;left: 50%;z-index: -1;}#sk-container-id-1 div.sk-parallel-item {display: flex;flex-direction: column;z-index: 1;position: relative;background-color: white;}#sk-container-id-1 div.sk-parallel-item:first-child::after {align-self: flex-end;width: 50%;}#sk-container-id-1 div.sk-parallel-item:last-child::after {align-self: flex-start;width: 50%;}#sk-container-id-1 div.sk-parallel-item:only-child::after {width: 0;}#sk-container-id-1 div.sk-dashed-wrapped {border: 1px dashed gray;margin: 0 0.4em 0.5em 0.4em;box-sizing: border-box;padding-bottom: 0.4em;background-color: white;}#sk-container-id-1 div.sk-label label {font-family: monospace;font-weight: bold;display: inline-block;line-height: 1.2em;}#sk-container-id-1 div.sk-label-container {text-align: center;}#sk-container-id-1 div.sk-container {/* jupyter's `normalize.less` sets `[hidden] { display: none; }` but bootstrap.min.css set `[hidden] { display: none !important; }` so we also need the `!important` here to be able to override the default hidden behavior on the sphinx rendered scikit-learn.org. See: https://github.com/scikit-learn/scikit-learn/issues/21755 */display: inline-block !important;position: relative;}#sk-container-id-1 div.sk-text-repr-fallback {display: none;}</style><div id=\"sk-container-id-1\" class=\"sk-top-container\"><div class=\"sk-text-repr-fallback\"><pre>NearestNeighbors(algorithm=&#x27;brute&#x27;, metric=&#x27;cosine&#x27;)</pre><b>In a Jupyter environment, please rerun this cell to show the HTML representation or trust the notebook. <br />On GitHub, the HTML representation is unable to render, please try loading this page with nbviewer.org.</b></div><div class=\"sk-container\" hidden><div class=\"sk-item\"><div class=\"sk-estimator sk-toggleable\"><input class=\"sk-toggleable__control sk-hidden--visually\" id=\"sk-estimator-id-1\" type=\"checkbox\" checked><label for=\"sk-estimator-id-1\" class=\"sk-toggleable__label sk-toggleable__label-arrow\">NearestNeighbors</label><div class=\"sk-toggleable__content\"><pre>NearestNeighbors(algorithm=&#x27;brute&#x27;, metric=&#x27;cosine&#x27;)</pre></div></div></div></div></div>"
      ],
      "text/plain": [
       "NearestNeighbors(algorithm='brute', metric='cosine')"
      ]
     },
     "execution_count": 17,
     "metadata": {},
     "output_type": "execute_result"
    }
   ],
   "source": [
    "encoder = OneHotEncoder()\n",
    "keys_encoded = encoder.fit_transform(keys)\n",
    "model_knn = NearestNeighbors(metric='cosine', algorithm='brute')\n",
    "model_knn.fit(keys_encoded)"
   ]
  },
  {
   "cell_type": "code",
   "execution_count": 18,
   "metadata": {},
   "outputs": [],
   "source": [
    "#ohe = OneHotEncoder(sparse=False)\n",
    "#imp = SimpleImputer()"
   ]
  },
  {
   "cell_type": "code",
   "execution_count": 19,
   "metadata": {},
   "outputs": [],
   "source": [
    "#ct = make_column_transformer(\n",
    " #   (ohe,['type','production_countries','description', 'genres', 'name']),\n",
    "  #  remainder = 'passthrough'\n",
    "#)"
   ]
  },
  {
   "cell_type": "code",
   "execution_count": 20,
   "metadata": {},
   "outputs": [],
   "source": [
    "#keys_Trans = ct.fit_transform(keys)\n",
    "#model_knn = NearestNeighbors(metric='cosine', algorithm='brute')\n",
    "#model_knn.fit(keys_Trans)\n"
   ]
  },
  {
   "cell_type": "markdown",
   "metadata": {},
   "source": [
    "encoder = OneHotEncoder()\n",
    "keys_encoded = encoder.fit_transform(keys_Trans)\n",
    "model_knn = NearestNeighbors(metric='cosine', algorithm='brute')\n",
    "model_knn.fit(keys_encoded)"
   ]
  },
  {
   "cell_type": "markdown",
   "metadata": {},
   "source": [
    "\n",
    "def get_recommend(movie):\n",
    "    try:\n",
    "        movie_index = netflix_R[netflix_R['title']==movie].index[0]\n",
    "    except IndexError:\n",
    "        return \"Sorry, the movie title that you requested does not appear to be in my database. Please try another movie!\"\n",
    "\n",
    "    distances, indices = model_knn.kneighbors(keys[movie_index, :].reshape(1, -1), n_neighbors = n_recommendations+1)\n",
    "    rec_movie_indices = [i for i in indices.flatten()][1:]\n",
    "\n",
    "\n",
    "    for i in rec_movie_indices:\n",
    "        print(netflix_R.iloc[i][\"title\"])\n",
    "    "
   ]
  },
  {
   "cell_type": "code",
   "execution_count": 21,
   "metadata": {},
   "outputs": [],
   "source": [
    "n_recommendations = 15"
   ]
  },
  {
   "cell_type": "code",
   "execution_count": 22,
   "metadata": {},
   "outputs": [],
   "source": [
    "def get_recommend(movie):\n",
    "    try:\n",
    "        movie_index = netflix_R[netflix_R['title']==movie].index[0]\n",
    "    except IndexError:\n",
    "        return \"Sorry, the movie title that you requested does not appear to be in my database. Please try another movie!\"\n",
    "\n",
    "    distances, indices = model_knn.kneighbors(keys_encoded[movie_index, :].toarray().reshape(1, -1), n_neighbors = n_recommendations+1)\n",
    "    rec_movie_indices = [i for i in indices.flatten()][1:]\n",
    "\n",
    "\n",
    "    for i in rec_movie_indices:\n",
    "        print(netflix_R.iloc[i][\"title\"])"
   ]
  },
  {
   "cell_type": "code",
   "execution_count": 23,
   "metadata": {},
   "outputs": [
    {
     "name": "stdout",
     "output_type": "stream",
     "text": [
      "What the Fish\n",
      "Avvai Shanmugi\n",
      "Pad Man\n",
      "Chalte Chalte\n",
      "The Dirty Picture\n",
      "Rowdy Rathore\n",
      "Mubarakan\n",
      "Te3n\n",
      "Kyaa Super Kool Hain Hum\n",
      "No One Killed Jessica\n",
      "Michael\n",
      "Dil Se..\n",
      "Don\n",
      "Dhanak\n",
      "Fashion\n",
      "None\n"
     ]
    }
   ],
   "source": [
    "movie_name = input(\"Enter movie name: \" )\n",
    "print(get_recommend(movie_name))"
   ]
  }
 ],
 "metadata": {
  "kernelspec": {
   "display_name": "base",
   "language": "python",
   "name": "python3"
  },
  "language_info": {
   "codemirror_mode": {
    "name": "ipython",
    "version": 3
   },
   "file_extension": ".py",
   "mimetype": "text/x-python",
   "name": "python",
   "nbconvert_exporter": "python",
   "pygments_lexer": "ipython3",
   "version": "3.11.6"
  }
 },
 "nbformat": 4,
 "nbformat_minor": 2
}
